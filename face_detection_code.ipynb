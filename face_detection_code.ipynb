{
 "cells": [
  {
   "cell_type": "markdown",
   "id": "15b0c6d1",
   "metadata": {},
   "source": [
    "# Installing dependencies and importing\n",
    "\n"
   ]
  },
  {
   "cell_type": "code",
   "execution_count": 1,
   "id": "1b1eeb7a",
   "metadata": {},
   "outputs": [
    {
     "name": "stdout",
     "output_type": "stream",
     "text": [
      "Collecting cmake\n",
      "  Using cached cmake-3.24.1.1-py2.py3-none-win_amd64.whl (39.7 MB)\n",
      "Installing collected packages: cmake\n",
      "Successfully installed cmake-3.24.1.1\n"
     ]
    }
   ],
   "source": [
    "!pip install cmake"
   ]
  },
  {
   "cell_type": "code",
   "execution_count": 4,
   "id": "ad793c3b",
   "metadata": {},
   "outputs": [
    {
     "name": "stdout",
     "output_type": "stream",
     "text": [
      "Requirement already satisfied: dlib in d:\\face_detection\\lib\\site-packages (19.24.0)\n"
     ]
    }
   ],
   "source": [
    "!pip install dlib"
   ]
  },
  {
   "cell_type": "code",
   "execution_count": 5,
   "id": "b0ef57e2",
   "metadata": {},
   "outputs": [
    {
     "name": "stdout",
     "output_type": "stream",
     "text": [
      "Requirement already satisfied: opencv-python in d:\\face_detection\\lib\\site-packages (4.6.0.66)\n",
      "Requirement already satisfied: numpy>=1.17.3 in d:\\face_detection\\lib\\site-packages (from opencv-python) (1.23.4)\n"
     ]
    }
   ],
   "source": [
    "!pip install opencv-python"
   ]
  },
  {
   "cell_type": "code",
   "execution_count": 6,
   "id": "ded083d5",
   "metadata": {},
   "outputs": [
    {
     "name": "stdout",
     "output_type": "stream",
     "text": [
      "Requirement already satisfied: numpy in d:\\face_detection\\lib\\site-packages (1.23.4)\n"
     ]
    }
   ],
   "source": [
    "!pip install numpy"
   ]
  },
  {
   "cell_type": "code",
   "execution_count": 8,
   "id": "656bfb43",
   "metadata": {},
   "outputs": [
    {
     "name": "stdout",
     "output_type": "stream",
     "text": [
      "Collecting face_recognition\n",
      "  Using cached face_recognition-1.3.0-py2.py3-none-any.whl (15 kB)\n",
      "Collecting face-recognition-models>=0.3.0\n",
      "  Using cached face_recognition_models-0.3.0.tar.gz (100.1 MB)\n",
      "  Preparing metadata (setup.py): started\n",
      "  Preparing metadata (setup.py): finished with status 'done'\n",
      "Requirement already satisfied: dlib>=19.7 in d:\\face_detection\\lib\\site-packages (from face_recognition) (19.24.0)\n",
      "Collecting Click>=6.0\n",
      "  Using cached click-8.1.3-py3-none-any.whl (96 kB)\n",
      "Requirement already satisfied: numpy in d:\\face_detection\\lib\\site-packages (from face_recognition) (1.23.4)\n",
      "Collecting Pillow\n",
      "  Downloading Pillow-9.3.0-cp38-cp38-win_amd64.whl (2.5 MB)\n",
      "     ---------------------------------------- 2.5/2.5 MB 223.9 kB/s eta 0:00:00\n",
      "Requirement already satisfied: colorama in d:\\face_detection\\lib\\site-packages (from Click>=6.0->face_recognition) (0.4.6)\n",
      "Installing collected packages: face-recognition-models, Pillow, Click, face_recognition\n",
      "  Running setup.py install for face-recognition-models: started\n",
      "  Running setup.py install for face-recognition-models: finished with status 'done'\n",
      "Successfully installed Click-8.1.3 Pillow-9.3.0 face-recognition-models-0.3.0 face_recognition-1.3.0\n"
     ]
    },
    {
     "name": "stderr",
     "output_type": "stream",
     "text": [
      "  DEPRECATION: face-recognition-models is being installed using the legacy 'setup.py install' method, because it does not have a 'pyproject.toml' and the 'wheel' package is not installed. pip 23.1 will enforce this behaviour change. A possible replacement is to enable the '--use-pep517' option. Discussion can be found at https://github.com/pypa/pip/issues/8559\n"
     ]
    }
   ],
   "source": [
    "!pip install face_recognition"
   ]
  },
  {
   "cell_type": "code",
   "execution_count": 1,
   "id": "11e676d1",
   "metadata": {},
   "outputs": [],
   "source": [
    "import cv2\n",
    "import numpy as np\n",
    "import face_recognition"
   ]
  },
  {
   "cell_type": "code",
   "execution_count": 5,
   "id": "0e68beab",
   "metadata": {},
   "outputs": [],
   "source": [
    "capture = cv2.VideoCapture(\"test_video.mp4\")\n",
    "\n",
    "while True:\n",
    "    isTrue, frame = capture.read()\n",
    "    if isTrue:\n",
    "        faceLoclist= face_recognition.face_locations(frame)\n",
    "        \n",
    "        for locations in faceLoclist:\n",
    "            top = y1= locations[0]\n",
    "            right = x2 = locations[1]\n",
    "            bottom = y2 = locations[2]\n",
    "            left = x1 = locations[3]\n",
    "            \n",
    "            cv2.rectangle(frame,(x1,y1),(x2,y2),(0,255,0),thickness=5)\n",
    "            frame_center = (frame.shape[1]//2,frame.shape[0]//2)\n",
    "            face_center= ((x1+x2)//2,(y1+y2)//2)\n",
    "            cv2.line(frame,frame_center,face_center,(0,255,0),thickness=5)\n",
    "        \n",
    "        cv2.imshow(\"frame\",frame)\n",
    "        if cv2.waitKey(1) & 0xFF == ord('q'):\n",
    "            break\n",
    "    else:\n",
    "        break\n",
    "\n",
    "capture.release()\n",
    "cv2.destroyAllWindows()\n",
    "  \n",
    "            "
   ]
  },
  {
   "cell_type": "code",
   "execution_count": 12,
   "id": "a4b65945",
   "metadata": {},
   "outputs": [],
   "source": [
    "import os\n",
    "file_path = os.path.join(\"file\")\n",
    "!mkdir {file_path}"
   ]
  },
  {
   "cell_type": "code",
   "execution_count": null,
   "id": "5403436a",
   "metadata": {},
   "outputs": [],
   "source": []
  }
 ],
 "metadata": {
  "kernelspec": {
   "display_name": "face_detection",
   "language": "python",
   "name": "face_detection"
  },
  "language_info": {
   "codemirror_mode": {
    "name": "ipython",
    "version": 3
   },
   "file_extension": ".py",
   "mimetype": "text/x-python",
   "name": "python",
   "nbconvert_exporter": "python",
   "pygments_lexer": "ipython3",
   "version": "3.8.0"
  }
 },
 "nbformat": 4,
 "nbformat_minor": 5
}
